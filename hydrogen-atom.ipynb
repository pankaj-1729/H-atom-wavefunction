{
 "cells": [
  {
   "cell_type": "markdown",
   "id": "66401a7f-e709-4f53-a0bd-bcfabca28ec2",
   "metadata": {
    "tags": []
   },
   "source": [
    "<span style=\"font-size:30px;color:red\">**$$\\text{Hydrogen atom }$$**"
   ]
  },
  {
   "cell_type": "markdown",
   "id": "8db19faf-1ece-48ac-bcb7-1a7e80fc6e54",
   "metadata": {
    "tags": []
   },
   "source": [
    "$$\n",
    "\\psi_{n,\\ell,m}(r,\\theta,\\phi) = \n",
    "\\sqrt{\\left(\\frac{2}{n a_0}\\right)^3 \\frac{(n-\\ell-1)!}{2n[(n+\\ell)!]}} \\, \n",
    "e^{-\\rho/2} \\, \\rho^{\\ell} \\, L_{n-\\ell-1}^{2\\ell+1}(\\rho) \\, Y_{\\ell}^{m}(\\theta,\\phi)\n",
    "$$\n",
    "where\n",
    "\n",
    "$$\n",
    "\\rho = \\frac{2r}{n a_0^*}, \\quad\n",
    "a_0^* = \\frac{4 \\pi \\varepsilon_0 \\hbar^2}{\\mu e^2}\n",
    "$$\n",
    "\n",
    "- $a_0^*$ is the **reduced Bohr radi**  \n",
    "- $L_{n-\\ell-1}^{2\\ell+1}(\\rho)$ is a **generalized Laguerre polynomial** of degree $n-\\ell-1$  \n",
    "- $Y_\\ell^m(\\theta,\\phi)$ is a **spherical harmonic** of degree $\\ell$ and order $m$\n",
    "\n"
   ]
  },
  {
   "cell_type": "code",
   "execution_count": null,
   "id": "0861cbd9-0f43-4406-8d85-463e4e428a3e",
   "metadata": {},
   "outputs": [],
   "source": []
  }
 ],
 "metadata": {
  "kernelspec": {
   "display_name": "Python 3 (ipykernel)",
   "language": "python",
   "name": "python3"
  },
  "language_info": {
   "codemirror_mode": {
    "name": "ipython",
    "version": 3
   },
   "file_extension": ".py",
   "mimetype": "text/x-python",
   "name": "python",
   "nbconvert_exporter": "python",
   "pygments_lexer": "ipython3",
   "version": "3.11.5"
  }
 },
 "nbformat": 4,
 "nbformat_minor": 5
}
